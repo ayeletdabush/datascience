{
 "cells": [
  {
   "cell_type": "markdown",
   "metadata": {
    "_uuid": "e8459f4e9e52473b4fe8824724a87798e1946e02"
   },
   "source": [
    "# Data Preparation & Exploration "
   ]
  },
  {
   "cell_type": "code",
   "execution_count": 1,
   "metadata": {
    "_uuid": "f159da396824602d8ae73fc5cb08f84987ce91f6"
   },
   "outputs": [
    {
     "name": "stdout",
     "output_type": "stream",
     "text": [
      "Populating the interactive namespace from numpy and matplotlib\n"
     ]
    }
   ],
   "source": [
    "#Loading libraries \n",
    "import pandas as pd\n",
    "import numpy as np\n",
    "import matplotlib.pyplot as plt\n",
    "import seaborn as sns\n",
    "from pandas_profiling import ProfileReport\n",
    "%pylab inline\n",
    "from datetime import datetime\n",
    "import pickle \n",
    "import warnings\n",
    "from sklearn.ensemble import RandomForestClassifier\n",
    "from sklearn.pipeline import Pipeline\n",
    "from sklearn import metrics\n",
    "from sklearn.model_selection import ParameterGrid\n",
    "from sklearn.preprocessing import StandardScaler,LabelEncoder\n",
    "from sklearn.metrics import roc_curve, auc\n",
    "from sklearn.metrics import accuracy_score, precision_score, recall_score,log_loss\n",
    "from sklearn.calibration import CalibratedClassifierCV\n",
    "from sklearn.calibration import calibration_curve\n",
    "import category_encoders as ce\n",
    "from sklearn.model_selection import train_test_split\n",
    "from catboost import CatBoostClassifier, Pool\n",
    "from sklearn.neighbors import KNeighborsClassifier\n",
    "import shap\n",
    "\n",
    "pd.set_option('display.max_rows', 500)"
   ]
  },
  {
   "cell_type": "code",
   "execution_count": 2,
   "metadata": {},
   "outputs": [
    {
     "data": {
      "text/plain": [
       "'0.21.3'"
      ]
     },
     "execution_count": 2,
     "metadata": {},
     "output_type": "execute_result"
    }
   ],
   "source": [
    "import sklearn\n",
    "sklearn.__version__"
   ]
  },
  {
   "cell_type": "code",
   "execution_count": 3,
   "metadata": {},
   "outputs": [],
   "source": [
    "TODO = 5000\n",
    "train = pd.read_pickle(\"train_set.pickle\").sample(n=TODO)\n",
    "train.loc[:,\"clicked\"] = train.loc[:,\"clicked\"].map({True:1, False:0})\n",
    "\n"
   ]
  },
  {
   "cell_type": "code",
   "execution_count": 4,
   "metadata": {},
   "outputs": [],
   "source": [
    "\n",
    "#TODO replace with Ayelet code\n",
    "train.loc[:,'time'] = pd.to_datetime(train['timestamp'], unit='s')\n",
    "train.loc[:,'Day_of_Week'] = train['time'].dt.weekday_name\n",
    "\n",
    "# note monday == 0 \n",
    "train.loc[:,'weekend'] = train['time'].dt.dayofweek > 4\n",
    "\n",
    "train.loc[:,'Month'] = train['time'].dt.month_name().str[:3]\n",
    "train.loc[:,'hour'] = train['time'].dt.hour\n",
    "\n",
    "train.loc[:,'device_diag'] = np.sqrt(train.device_height^2 + train.device_width^2).round()\n",
    "train.loc[:,'manufacturer'] = train['manufacturer'].fillna('Unknown')"
   ]
  },
  {
   "cell_type": "code",
   "execution_count": 5,
   "metadata": {},
   "outputs": [],
   "source": [
    "train_df, other = train_test_split(train, test_size=0.3, random_state=42)\n",
    "dev_val, other2 = train_test_split(other, test_size=2/3, random_state=42)\n",
    "dev_test, dev_es = train_test_split(other2, test_size=0.5, random_state=42)"
   ]
  },
  {
   "cell_type": "code",
   "execution_count": 6,
   "metadata": {},
   "outputs": [
    {
     "data": {
      "text/plain": [
       "((3500, 18), (500, 18), (500, 18), (500, 18))"
      ]
     },
     "execution_count": 6,
     "metadata": {},
     "output_type": "execute_result"
    }
   ],
   "source": [
    "train_df.shape, dev_val.shape, dev_es.shape, dev_test.shape"
   ]
  },
  {
   "cell_type": "code",
   "execution_count": 7,
   "metadata": {},
   "outputs": [
    {
     "name": "stdout",
     "output_type": "stream",
     "text": [
      "<class 'pandas.core.frame.DataFrame'>\n",
      "Int64Index: 3500 entries, 323301 to 2502926\n",
      "Data columns (total 18 columns):\n",
      "timestamp         3500 non-null int64\n",
      "state             3500 non-null object\n",
      "user_isp          3500 non-null object\n",
      "app_id            3500 non-null object\n",
      "app_cat           3500 non-null object\n",
      "banner_pos        3500 non-null object\n",
      "manufacturer      3500 non-null object\n",
      "device_model      2425 non-null object\n",
      "device_version    3500 non-null object\n",
      "device_height     3500 non-null int64\n",
      "device_width      3500 non-null int64\n",
      "clicked           3500 non-null int64\n",
      "time              3500 non-null datetime64[ns]\n",
      "Day_of_Week       3500 non-null object\n",
      "weekend           3500 non-null bool\n",
      "Month             3500 non-null object\n",
      "hour              3500 non-null int64\n",
      "device_diag       3500 non-null float64\n",
      "dtypes: bool(1), datetime64[ns](1), float64(1), int64(5), object(10)\n",
      "memory usage: 495.6+ KB\n"
     ]
    }
   ],
   "source": [
    "train_df.info()"
   ]
  },
  {
   "cell_type": "code",
   "execution_count": 8,
   "metadata": {},
   "outputs": [],
   "source": [
    "# TODO update features list\n",
    "features = ['app_cat', 'banner_pos', 'device_diag', 'state' , 'Day_of_Week', 'Month', 'hour' , 'device_version' , 'manufacturer']\n",
    "cat_features = ['app_cat','banner_pos','state' ,  'Day_of_Week', 'Month', 'hour','device_version' , 'manufacturer']"
   ]
  },
  {
   "cell_type": "code",
   "execution_count": 9,
   "metadata": {},
   "outputs": [],
   "source": [
    "X_train = train_df[features]\n",
    "y_train = train_df['clicked']\n",
    "X_val = dev_val[features]\n",
    "y_val = dev_val['clicked']\n",
    "X_es  = dev_es[features]\n",
    "y_es = dev_es['clicked']"
   ]
  },
  {
   "cell_type": "markdown",
   "metadata": {},
   "source": [
    "# exploring the Target Encoder"
   ]
  },
  {
   "cell_type": "code",
   "execution_count": 10,
   "metadata": {},
   "outputs": [
    {
     "data": {
      "text/plain": [
       "TargetEncoder(cols=['app_cat', 'banner_pos', 'state', 'Day_of_Week', 'Month',\n",
       "                    'hour', 'device_version', 'manufacturer'],\n",
       "              drop_invariant=False, handle_missing='value',\n",
       "              handle_unknown='value', min_samples_leaf=1, return_df=True,\n",
       "              smoothing=1.0, verbose=0)"
      ]
     },
     "execution_count": 10,
     "metadata": {},
     "output_type": "execute_result"
    }
   ],
   "source": [
    "encoder = ce.TargetEncoder(cols=cat_features)\n",
    "encoder.fit(X_train, y_train)\n"
   ]
  },
  {
   "cell_type": "code",
   "execution_count": 11,
   "metadata": {},
   "outputs": [],
   "source": [
    "X_val_encoded = encoder.fit_transform(X_val, y_val)"
   ]
  },
  {
   "cell_type": "code",
   "execution_count": 12,
   "metadata": {},
   "outputs": [
    {
     "data": {
      "text/html": [
       "<div>\n",
       "<style scoped>\n",
       "    .dataframe tbody tr th:only-of-type {\n",
       "        vertical-align: middle;\n",
       "    }\n",
       "\n",
       "    .dataframe tbody tr th {\n",
       "        vertical-align: top;\n",
       "    }\n",
       "\n",
       "    .dataframe thead th {\n",
       "        text-align: right;\n",
       "    }\n",
       "</style>\n",
       "<table border=\"1\" class=\"dataframe\">\n",
       "  <thead>\n",
       "    <tr style=\"text-align: right;\">\n",
       "      <th></th>\n",
       "      <th>app_cat</th>\n",
       "      <th>banner_pos</th>\n",
       "      <th>device_diag</th>\n",
       "      <th>state</th>\n",
       "      <th>Day_of_Week</th>\n",
       "      <th>Month</th>\n",
       "      <th>hour</th>\n",
       "      <th>device_version</th>\n",
       "      <th>manufacturer</th>\n",
       "    </tr>\n",
       "  </thead>\n",
       "  <tbody>\n",
       "    <tr>\n",
       "      <td>count</td>\n",
       "      <td>5.000000e+02</td>\n",
       "      <td>500.000000</td>\n",
       "      <td>500.000000</td>\n",
       "      <td>5.000000e+02</td>\n",
       "      <td>500.000000</td>\n",
       "      <td>500.000000</td>\n",
       "      <td>5.000000e+02</td>\n",
       "      <td>500.000000</td>\n",
       "      <td>500.000000</td>\n",
       "    </tr>\n",
       "    <tr>\n",
       "      <td>mean</td>\n",
       "      <td>5.902865e-02</td>\n",
       "      <td>0.060000</td>\n",
       "      <td>40.980000</td>\n",
       "      <td>5.816544e-02</td>\n",
       "      <td>0.060000</td>\n",
       "      <td>0.060043</td>\n",
       "      <td>6.000375e-02</td>\n",
       "      <td>0.059978</td>\n",
       "      <td>0.061067</td>\n",
       "    </tr>\n",
       "    <tr>\n",
       "      <td>std</td>\n",
       "      <td>4.224592e-02</td>\n",
       "      <td>0.064272</td>\n",
       "      <td>9.552282</td>\n",
       "      <td>6.460524e-02</td>\n",
       "      <td>0.022144</td>\n",
       "      <td>0.014996</td>\n",
       "      <td>5.857927e-02</td>\n",
       "      <td>0.040004</td>\n",
       "      <td>0.046847</td>\n",
       "    </tr>\n",
       "    <tr>\n",
       "      <td>min</td>\n",
       "      <td>2.065015e-15</td>\n",
       "      <td>0.000000</td>\n",
       "      <td>26.000000</td>\n",
       "      <td>1.673681e-11</td>\n",
       "      <td>0.023810</td>\n",
       "      <td>0.007152</td>\n",
       "      <td>3.996803e-17</td>\n",
       "      <td>0.000003</td>\n",
       "      <td>0.002846</td>\n",
       "    </tr>\n",
       "    <tr>\n",
       "      <td>25%</td>\n",
       "      <td>2.500000e-02</td>\n",
       "      <td>0.000000</td>\n",
       "      <td>31.000000</td>\n",
       "      <td>2.012101e-05</td>\n",
       "      <td>0.034483</td>\n",
       "      <td>0.040984</td>\n",
       "      <td>1.835413e-08</td>\n",
       "      <td>0.037037</td>\n",
       "      <td>0.043750</td>\n",
       "    </tr>\n",
       "    <tr>\n",
       "      <td>50%</td>\n",
       "      <td>4.838710e-02</td>\n",
       "      <td>0.000000</td>\n",
       "      <td>45.000000</td>\n",
       "      <td>5.952381e-02</td>\n",
       "      <td>0.070423</td>\n",
       "      <td>0.066667</td>\n",
       "      <td>6.060606e-02</td>\n",
       "      <td>0.054545</td>\n",
       "      <td>0.050420</td>\n",
       "    </tr>\n",
       "    <tr>\n",
       "      <td>75%</td>\n",
       "      <td>9.523810e-02</td>\n",
       "      <td>0.138462</td>\n",
       "      <td>45.000000</td>\n",
       "      <td>6.451613e-02</td>\n",
       "      <td>0.078652</td>\n",
       "      <td>0.072626</td>\n",
       "      <td>9.677419e-02</td>\n",
       "      <td>0.054545</td>\n",
       "      <td>0.066038</td>\n",
       "    </tr>\n",
       "    <tr>\n",
       "      <td>max</td>\n",
       "      <td>1.818127e-01</td>\n",
       "      <td>0.147541</td>\n",
       "      <td>64.000000</td>\n",
       "      <td>3.816658e-01</td>\n",
       "      <td>0.087719</td>\n",
       "      <td>0.072626</td>\n",
       "      <td>2.142857e-01</td>\n",
       "      <td>0.331504</td>\n",
       "      <td>0.374713</td>\n",
       "    </tr>\n",
       "  </tbody>\n",
       "</table>\n",
       "</div>"
      ],
      "text/plain": [
       "            app_cat  banner_pos  device_diag         state  Day_of_Week  \\\n",
       "count  5.000000e+02  500.000000   500.000000  5.000000e+02   500.000000   \n",
       "mean   5.902865e-02    0.060000    40.980000  5.816544e-02     0.060000   \n",
       "std    4.224592e-02    0.064272     9.552282  6.460524e-02     0.022144   \n",
       "min    2.065015e-15    0.000000    26.000000  1.673681e-11     0.023810   \n",
       "25%    2.500000e-02    0.000000    31.000000  2.012101e-05     0.034483   \n",
       "50%    4.838710e-02    0.000000    45.000000  5.952381e-02     0.070423   \n",
       "75%    9.523810e-02    0.138462    45.000000  6.451613e-02     0.078652   \n",
       "max    1.818127e-01    0.147541    64.000000  3.816658e-01     0.087719   \n",
       "\n",
       "            Month          hour  device_version  manufacturer  \n",
       "count  500.000000  5.000000e+02      500.000000    500.000000  \n",
       "mean     0.060043  6.000375e-02        0.059978      0.061067  \n",
       "std      0.014996  5.857927e-02        0.040004      0.046847  \n",
       "min      0.007152  3.996803e-17        0.000003      0.002846  \n",
       "25%      0.040984  1.835413e-08        0.037037      0.043750  \n",
       "50%      0.066667  6.060606e-02        0.054545      0.050420  \n",
       "75%      0.072626  9.677419e-02        0.054545      0.066038  \n",
       "max      0.072626  2.142857e-01        0.331504      0.374713  "
      ]
     },
     "execution_count": 12,
     "metadata": {},
     "output_type": "execute_result"
    }
   ],
   "source": [
    "X_val_encoded.describe()"
   ]
  },
  {
   "cell_type": "markdown",
   "metadata": {},
   "source": [
    "# Preparing for pipeline creation"
   ]
  },
  {
   "cell_type": "code",
   "execution_count": 13,
   "metadata": {},
   "outputs": [],
   "source": [
    "def plot_auc(fpr, tpr):\n",
    "    roc_auc = auc(fpr, tpr)\n",
    "    plt.figure()\n",
    "    lw = 2\n",
    "    plt.plot(\n",
    "        fpr,\n",
    "        tpr,\n",
    "        color=\"darkorange\",\n",
    "        lw=lw,\n",
    "        label=\"ROC curve (area = %0.3f)\" % roc_auc,\n",
    "    )\n",
    "    plt.plot([0, 1], [0, 1], color=\"navy\", lw=lw, linestyle=\"--\")\n",
    "    plt.xlim([0.0, 1.0])\n",
    "    plt.ylim([0.0, 1.05])\n",
    "    plt.xlabel(\"False Positive Rate\")\n",
    "    plt.ylabel(\"True Positive Rate\")\n",
    "    plt.title(\"Receiver operating characteristic example\")\n",
    "    plt.legend(loc=\"lower right\")\n",
    "    plt.show()\n",
    "    return roc_auc"
   ]
  },
  {
   "cell_type": "code",
   "execution_count": 14,
   "metadata": {},
   "outputs": [],
   "source": [
    "\n",
    "def plot_calibration(y, y_hat):\n",
    "    # reliability diagram\n",
    "    fop, mpv = calibration_curve(y, y_hat, n_bins=10, normalize=True)\n",
    "    # plot perfectly calibrated\n",
    "    pyplot.plot([0, 1], [0, 1], linestyle='--')\n",
    "    # plot model reliability\n",
    "    pyplot.plot(mpv, fop, marker='.')\n",
    "    plt.xlabel(\"Mean predicted probabilities\")\n",
    "    plt.ylabel(\"True Probabilities\")\n",
    "    plt.title(\"Calibration Curve\")\n",
    "    pyplot.show()"
   ]
  },
  {
   "cell_type": "code",
   "execution_count": 15,
   "metadata": {},
   "outputs": [],
   "source": [
    "def find_threshold(y, y_hat):\n",
    "    num_actual_clicks = sum(y)\n",
    "    threshold = 0.5\n",
    "    num_predicted_clicks = sum(y[y_hat>=threshold])\n",
    "    while num_predicted_clicks < num_actual_clicks:\n",
    "        threshold = threshold - 0.01\n",
    "        num_predicted_clicks = sum(y[y_hat>=threshold])\n",
    "        #print (f\"\"\"threshold:{threshold}, num_predicted_clicks:{num_predicted_clicks}\"\"\")\n",
    "    \n",
    "    return threshold"
   ]
  },
  {
   "cell_type": "code",
   "execution_count": 16,
   "metadata": {},
   "outputs": [],
   "source": [
    "def find_threshold_by_accuracy(y, y_hat, plot=False):\n",
    "    threshold = []\n",
    "    accuracy = []\n",
    "    for p in np.sort(np.unique(y_hat))[-50:]:\n",
    "        threshold.append(p)\n",
    "        y_pred = (y_hat >= p).astype(int)\n",
    "        curr_accuracy = accuracy_score(y,y_pred)\n",
    "        accuracy.append(curr_accuracy)\n",
    "    best_threshold = threshold[np.argmax(np.array(accuracy), axis=0)]\n",
    "    best_accuracy = max(accuracy)\n",
    "    print (\"Best Threshold:\" ,best_threshold, \", with accuracy = \", best_accuracy)\n",
    "    if plot:\n",
    "        plt.scatter(threshold,accuracy)\n",
    "        plt.xlabel(\"Threshold\")\n",
    "        plt.ylabel(\"Accuracy\")\n",
    "        plt.show()\n",
    "    return best_accuracy, best_threshold"
   ]
  },
  {
   "cell_type": "code",
   "execution_count": 17,
   "metadata": {},
   "outputs": [],
   "source": [
    "def find_threshold_by_logloss(y, y_hat, plot=False):\n",
    "    threshold = []\n",
    "    logloss = []\n",
    "    for p in np.sort(np.unique(y_hat))[-50:]:\n",
    "        threshold.append(p)\n",
    "        y_pred = (y_hat >= p).astype(int)\n",
    "        curr_logloss = -log_loss(y,y_pred)\n",
    "        logloss.append(curr_logloss)\n",
    "    best_threshold = threshold[np.argmax(np.array(logloss), axis=0)]\n",
    "    best_logloss = max(logloss)\n",
    "    print (\"Best Threshold:\" ,best_threshold, \", with logloss = \", best_logloss)\n",
    "    return best_logloss, best_threshold"
   ]
  },
  {
   "cell_type": "code",
   "execution_count": 18,
   "metadata": {},
   "outputs": [],
   "source": [
    "\n",
    "def find_best_params_random_forest(grid, X_train, y_train, X_val, y_val):\n",
    "    best_accuracy = 0\n",
    "    worst_accuracy = 1\n",
    "    for g in ParameterGrid(grid):\n",
    "        print(g)\n",
    "        rf_pipe = make_rf_pipe_line(None, params = g)\n",
    "        rf_pipe.fit(X_train,y_train)\n",
    "        y_hat = rf_pipe.predict_proba(X_val)[:,1]\n",
    "        curr_accuracy, best_threshold = find_threshold_by_accuracy(y_val, y_hat, plot=False)\n",
    "\n",
    "        # save if best\n",
    "        if curr_accuracy > best_accuracy:\n",
    "            best_accuracy = curr_accuracy\n",
    "            best_grid = g\n",
    "            \n",
    "        if curr_accuracy < worst_accuracy:\n",
    "            worst_accuracy = curr_accuracy\n",
    "            worst_grid = g\n",
    "    print (\"Final Result\")\n",
    "    print (\"best accuracy\", best_accuracy, \", Grid:\", best_grid)\n",
    "    print (\"worst accuracy\", worst_accuracy, \", Grid:\", best_grid)\n",
    "    return best_grid"
   ]
  },
  {
   "cell_type": "code",
   "execution_count": 19,
   "metadata": {},
   "outputs": [],
   "source": [
    "def evaulate_pipeline(pipe, X, y):\n",
    "    y_hat = pipe.predict_proba(X)[:,1]\n",
    "    assert y.shape ==  y_hat.shape\n",
    "    best_accuracy, best_threshold = find_threshold_by_accuracy(y_val, y_hat, plot=False)\n",
    "    \n",
    "    y_pred = (y_hat >= best_threshold).astype(int)\n",
    "\n",
    " \n",
    "    fpr, tpr, thresholds = metrics.roc_curve(y, y_hat, pos_label=1)\n",
    "    auc = plot_auc(fpr, tpr)\n",
    "    plot_calibration(y, y_hat)\n",
    "    #plt.hist(y_hat[y_hat >= 0], bins=10, density=False)\n",
    "    plt.hist(y_hat, bins=100, density=True)\n",
    "    plt.title(\"Histogram of predicted probabilities for click\")\n",
    "    plt.show()\n",
    "    #threshold = find_threshold(y, y_hat)\n",
    "    #print (f\"\"\"threshold={threshold:.2f}, num clicks: predicted={sum(y[y_hat>=threshold])}, actual={sum(y)}\"\"\")\n",
    "    print(\"Accuracy:\", accuracy_score(y, y_pred, normalize=True))\n",
    "    print(\"Recall:\", recall_score(y, y_pred))\n",
    "    print(\"Precision:\", precision_score(y, y_pred))\n",
    "    print(\"AUC:\", auc)\n",
    "    #print(\"-logloss:\", -log_loss(y, y_hat))\n",
    "    "
   ]
  },
  {
   "cell_type": "code",
   "execution_count": null,
   "metadata": {},
   "outputs": [],
   "source": []
  },
  {
   "cell_type": "markdown",
   "metadata": {},
   "source": [
    "# Random Forest PipeLine"
   ]
  },
  {
   "cell_type": "code",
   "execution_count": 20,
   "metadata": {},
   "outputs": [],
   "source": [
    "def make_rf_pipe_line(calibration = None, params = None ):\n",
    "    assert calibration is None or calibration in ['isotonic', 'sigmoid']\n",
    "    encoder = ce.TargetEncoder(cols=cat_features)\n",
    "    rf = RandomForestClassifier(n_estimators = 200, max_depth=5, criterion = \"gini\", n_jobs = 4,\n",
    "                                min_samples_split=100,random_state=13)\n",
    "    if params:\n",
    "        rf.set_params(**params)\n",
    "    if calibration is None:\n",
    "        rf_pipe = Pipeline([('target_enc',encoder),  ('classifier', rf)])\n",
    "    else:\n",
    "        calibrated_RF_classifier =  CalibratedClassifierCV(base_estimator=rf, cv=5, method=calibration)\n",
    "        rf_pipe = Pipeline([('target_enc',encoder),  ('calibrated_classifier', calibrated_RF_classifier)])\n",
    "    rf_pipe.fit(X_train, y_train)\n",
    "    return rf_pipe\n"
   ]
  },
  {
   "cell_type": "code",
   "execution_count": 21,
   "metadata": {},
   "outputs": [
    {
     "name": "stdout",
     "output_type": "stream",
     "text": [
      "{'class_weight': 'balanced', 'criterion': 'gini', 'max_depth': 4, 'min_samples_leaf': 100, 'n_estimators': 100}\n",
      "Best Threshold: 0.7342646036508921 , with accuracy =  0.938\n",
      "Final Result\n",
      "best accuracy 0.938 , Grid: {'class_weight': 'balanced', 'criterion': 'gini', 'max_depth': 4, 'min_samples_leaf': 100, 'n_estimators': 100}\n",
      "worst accuracy 0.938 , Grid: {'class_weight': 'balanced', 'criterion': 'gini', 'max_depth': 4, 'min_samples_leaf': 100, 'n_estimators': 100}\n",
      "Wall time: 1.1 s\n"
     ]
    }
   ],
   "source": [
    "%%time\n",
    "\n",
    "rf_params_grid ={'min_samples_leaf': [100], \n",
    "                 'max_depth': [4] ,\n",
    "                 'class_weight' : ['balanced'],\n",
    "                 'n_estimators': [100],\n",
    "                 'criterion': [\"gini\"]\n",
    "                 \n",
    "                }\n",
    "best_rf_params = find_best_params_random_forest(rf_params_grid, X_train, y_train, X_val, y_val)"
   ]
  },
  {
   "cell_type": "code",
   "execution_count": 22,
   "metadata": {},
   "outputs": [],
   "source": [
    "\n",
    "rf_pipe = make_rf_pipe_line(calibration = None, params = best_rf_params)\n"
   ]
  },
  {
   "cell_type": "code",
   "execution_count": 23,
   "metadata": {},
   "outputs": [
    {
     "name": "stdout",
     "output_type": "stream",
     "text": [
      "Best Threshold: 0.7342646036508923 , with accuracy =  0.938\n"
     ]
    },
    {
     "data": {
      "image/png": "[encoded data removed]",
      "text/plain": [
       "<Figure size 432x288 with 1 Axes>"
      ]
     },
     "metadata": {
      "needs_background": "light"
     },
     "output_type": "display_data"
    },
    {
     "data": {
      "image/png": "[encoded data removed]",
      "text/plain": [
       "<Figure size 432x288 with 1 Axes>"
      ]
     },
     "metadata": {
      "needs_background": "light"
     },
     "output_type": "display_data"
    },
    {
     "data": {
      "image/png": "[encoded data removed]",
      "text/plain": [
       "<Figure size 432x288 with 1 Axes>"
      ]
     },
     "metadata": {
      "needs_background": "light"
     },
     "output_type": "display_data"
    },
    {
     "name": "stdout",
     "output_type": "stream",
     "text": [
      "Accuracy: 0.938\n",
      "Recall: 0.16666666666666666\n",
      "Precision: 0.45454545454545453\n",
      "AUC: 0.8041843971631205\n"
     ]
    }
   ],
   "source": [
    "\n",
    "evaulate_pipeline(rf_pipe, X_val, y_val)"
   ]
  },
  {
   "cell_type": "code",
   "execution_count": null,
   "metadata": {},
   "outputs": [],
   "source": []
  },
  {
   "cell_type": "markdown",
   "metadata": {},
   "source": [
    "# Cat Boost Model"
   ]
  },
  {
   "cell_type": "code",
   "execution_count": 24,
   "metadata": {},
   "outputs": [],
   "source": [
    "validation_pool = Pool(data = X_val, label = y_val, cat_features=cat_features)\n",
    "train_pool = Pool(data = X_train, label = y_train, cat_features=cat_features)\n",
    "es_pool = Pool(data = X_es, label = y_es, cat_features=cat_features)\n"
   ]
  },
  {
   "cell_type": "code",
   "execution_count": null,
   "metadata": {},
   "outputs": [],
   "source": []
  },
  {
   "cell_type": "code",
   "execution_count": 25,
   "metadata": {},
   "outputs": [],
   "source": [
    "def make_catboost_pipe_line(train_pool, es_pool, class_weight = None, target_encoder = False, params = None):\n",
    "    model = CatBoostClassifier(iterations=500,\n",
    "                               learning_rate=None,\n",
    "                              cat_features=cat_features,\n",
    "                               depth=5,\n",
    "                               custom_loss = ['AUC', 'Logloss','BrierScore', 'Precision', 'Recall'],\n",
    "                               early_stopping_rounds = 20,\n",
    "                               auto_class_weights = class_weight,\n",
    "                               subsample= 0.5,\n",
    "                               verbose=30)\n",
    "    if params:\n",
    "        model.set_params(**params)\n",
    "    model.fit(train_pool, eval_set=es_pool, plot=True)\n",
    "    return model\n"
   ]
  },
  {
   "cell_type": "code",
   "execution_count": null,
   "metadata": {},
   "outputs": [],
   "source": [
    "\n"
   ]
  },
  {
   "cell_type": "code",
   "execution_count": 26,
   "metadata": {},
   "outputs": [],
   "source": [
    "catboost_params_grid ={ 'depth': [4,6,8] ,\n",
    "                 'min_child_samples' : [100,500,1000],\n",
    "                 'n_estimators': [100,200],\n",
    "                  'subsample': [0.5,0.75,0.95],\n",
    "                       \n",
    "                }\n",
    "#find_best_params_catboost(catboost_params_grid, train_pool, es_pool, X_val, y_val)"
   ]
  },
  {
   "cell_type": "code",
   "execution_count": 27,
   "metadata": {},
   "outputs": [
    {
     "name": "stdout",
     "output_type": "stream",
     "text": [
      "0:\tlearn: 0.6728454\ttest: 0.6717880\tbest: 0.6717880 (0)\ttotal: 67.2ms\tremaining: 13.4s\n",
      "30:\tlearn: 0.4948928\ttest: 0.4858215\tbest: 0.4858215 (30)\ttotal: 367ms\tremaining: 2s\n",
      "60:\tlearn: 0.4703890\ttest: 0.4640898\tbest: 0.4640898 (60)\ttotal: 617ms\tremaining: 1.41s\n",
      "90:\tlearn: 0.4595532\ttest: 0.4588344\tbest: 0.4588344 (90)\ttotal: 961ms\tremaining: 1.15s\n",
      "120:\tlearn: 0.4479433\ttest: 0.4559847\tbest: 0.4559847 (120)\ttotal: 1.25s\tremaining: 816ms\n",
      "150:\tlearn: 0.4403506\ttest: 0.4529016\tbest: 0.4529016 (150)\ttotal: 1.53s\tremaining: 498ms\n",
      "180:\tlearn: 0.4314567\ttest: 0.4495179\tbest: 0.4495179 (180)\ttotal: 1.78s\tremaining: 187ms\n",
      "199:\tlearn: 0.4266141\ttest: 0.4485938\tbest: 0.4484647 (198)\ttotal: 1.96s\tremaining: 0us\n",
      "\n",
      "bestTest = 0.4484646535\n",
      "bestIteration = 198\n",
      "\n",
      "0:\tlearn: 0.6711623\ttest: 0.6701612\tbest: 0.6701612 (0)\ttotal: 17ms\tremaining: 1.68s\n",
      "30:\tlearn: 0.4904635\ttest: 0.4840096\tbest: 0.4840096 (30)\ttotal: 278ms\tremaining: 618ms\n",
      "60:\tlearn: 0.4703583\ttest: 0.4657047\tbest: 0.4657047 (60)\ttotal: 459ms\tremaining: 294ms\n",
      "90:\tlearn: 0.4429678\ttest: 0.4581541\tbest: 0.4575794 (89)\ttotal: 720ms\tremaining: 71.2ms\n",
      "99:\tlearn: 0.4385130\ttest: 0.4573604\tbest: 0.4573538 (97)\ttotal: 828ms\tremaining: 0us\n",
      "\n",
      "bestTest = 0.4573537787\n",
      "bestIteration = 97\n",
      "\n",
      "0:\tlearn: 0.6728454\ttest: 0.6717880\tbest: 0.6717880 (0)\ttotal: 16.4ms\tremaining: 3.26s\n",
      "30:\tlearn: 0.4877297\ttest: 0.4812184\tbest: 0.4812184 (30)\ttotal: 308ms\tremaining: 1.68s\n",
      "60:\tlearn: 0.4607644\ttest: 0.4631821\tbest: 0.4631821 (60)\ttotal: 745ms\tremaining: 1.7s\n",
      "90:\tlearn: 0.4413283\ttest: 0.4592404\tbest: 0.4590521 (81)\ttotal: 1.14s\tremaining: 1.36s\n",
      "120:\tlearn: 0.4227924\ttest: 0.4560322\tbest: 0.4560322 (120)\ttotal: 1.45s\tremaining: 950ms\n",
      "150:\tlearn: 0.4059872\ttest: 0.4538944\tbest: 0.4538944 (150)\ttotal: 1.82s\tremaining: 590ms\n",
      "180:\tlearn: 0.3867204\ttest: 0.4525016\tbest: 0.4525016 (180)\ttotal: 2.29s\tremaining: 240ms\n",
      "199:\tlearn: 0.3746092\ttest: 0.4522391\tbest: 0.4501617 (187)\ttotal: 2.56s\tremaining: 0us\n",
      "\n",
      "bestTest = 0.4501616941\n",
      "bestIteration = 187\n",
      "\n",
      "0:\tlearn: 0.6711623\ttest: 0.6701612\tbest: 0.6701612 (0)\ttotal: 16ms\tremaining: 1.58s\n",
      "30:\tlearn: 0.4904635\ttest: 0.4840096\tbest: 0.4840096 (30)\ttotal: 229ms\tremaining: 511ms\n",
      "60:\tlearn: 0.4703583\ttest: 0.4657047\tbest: 0.4657047 (60)\ttotal: 417ms\tremaining: 266ms\n",
      "90:\tlearn: 0.4429678\ttest: 0.4581541\tbest: 0.4575794 (89)\ttotal: 655ms\tremaining: 64.8ms\n",
      "99:\tlearn: 0.4385130\ttest: 0.4573604\tbest: 0.4573538 (97)\ttotal: 780ms\tremaining: 0us\n",
      "\n",
      "bestTest = 0.4573537787\n",
      "bestIteration = 97\n",
      "\n",
      "0:\tlearn: 0.6772033\ttest: 0.6768687\tbest: 0.6768687 (0)\ttotal: 21.7ms\tremaining: 4.32s\n",
      "30:\tlearn: 0.4856948\ttest: 0.4833482\tbest: 0.4833482 (30)\ttotal: 440ms\tremaining: 2.4s\n",
      "60:\tlearn: 0.4592766\ttest: 0.4650087\tbest: 0.4650087 (60)\ttotal: 829ms\tremaining: 1.89s\n",
      "90:\tlearn: 0.4354325\ttest: 0.4557447\tbest: 0.4557447 (90)\ttotal: 1.17s\tremaining: 1.4s\n",
      "120:\tlearn: 0.4159408\ttest: 0.4531042\tbest: 0.4531042 (120)\ttotal: 1.52s\tremaining: 993ms\n",
      "150:\tlearn: 0.3964421\ttest: 0.4478925\tbest: 0.4477583 (141)\ttotal: 2.04s\tremaining: 663ms\n",
      "180:\tlearn: 0.3783016\ttest: 0.4466375\tbest: 0.4464907 (178)\ttotal: 2.43s\tremaining: 255ms\n",
      "199:\tlearn: 0.3685059\ttest: 0.4485426\tbest: 0.4463911 (183)\ttotal: 2.74s\tremaining: 0us\n",
      "\n",
      "bestTest = 0.4463910547\n",
      "bestIteration = 183\n",
      "\n",
      "0:\tlearn: 0.6772033\ttest: 0.6768687\tbest: 0.6768687 (0)\ttotal: 23.6ms\tremaining: 4.7s\n",
      "30:\tlearn: 0.4886705\ttest: 0.4851399\tbest: 0.4851399 (30)\ttotal: 545ms\tremaining: 2.97s\n",
      "60:\tlearn: 0.4394091\ttest: 0.4636526\tbest: 0.4636526 (60)\ttotal: 1.09s\tremaining: 2.49s\n",
      "90:\tlearn: 0.4024200\ttest: 0.4590970\tbest: 0.4586627 (79)\ttotal: 1.75s\tremaining: 2.1s\n",
      "Stopped by overfitting detector  (20 iterations wait)\n",
      "\n",
      "bestTest = 0.4586626884\n",
      "bestIteration = 79\n",
      "\n",
      "0:\tlearn: 0.6711623\ttest: 0.6701612\tbest: 0.6701612 (0)\ttotal: 10.7ms\tremaining: 1.06s\n",
      "30:\tlearn: 0.4973368\ttest: 0.4869281\tbest: 0.4869281 (30)\ttotal: 265ms\tremaining: 589ms\n",
      "60:\tlearn: 0.4699154\ttest: 0.4639239\tbest: 0.4639239 (60)\ttotal: 466ms\tremaining: 298ms\n",
      "90:\tlearn: 0.4556031\ttest: 0.4551114\tbest: 0.4551114 (90)\ttotal: 680ms\tremaining: 67.3ms\n",
      "99:\tlearn: 0.4525048\ttest: 0.4552500\tbest: 0.4547594 (92)\ttotal: 783ms\tremaining: 0us\n",
      "\n",
      "bestTest = 0.4547593968\n",
      "bestIteration = 92\n",
      "\n",
      "0:\tlearn: 0.6715337\ttest: 0.6706771\tbest: 0.6706771 (0)\ttotal: 15.5ms\tremaining: 3.08s\n",
      "30:\tlearn: 0.4869795\ttest: 0.4864812\tbest: 0.4864812 (30)\ttotal: 411ms\tremaining: 2.24s\n",
      "60:\tlearn: 0.4374086\ttest: 0.4666924\tbest: 0.4666924 (60)\ttotal: 796ms\tremaining: 1.81s\n",
      "90:\tlearn: 0.4033108\ttest: 0.4587776\tbest: 0.4587776 (90)\ttotal: 1.6s\tremaining: 1.91s\n",
      "120:\tlearn: 0.3643497\ttest: 0.4545468\tbest: 0.4527277 (117)\ttotal: 2.39s\tremaining: 1.56s\n",
      "150:\tlearn: 0.3334987\ttest: 0.4518709\tbest: 0.4505266 (146)\ttotal: 3.15s\tremaining: 1.02s\n",
      "Stopped by overfitting detector  (20 iterations wait)\n",
      "\n",
      "bestTest = 0.450526574\n",
      "bestIteration = 146\n",
      "\n",
      "0:\tlearn: 0.6712596\ttest: 0.6701184\tbest: 0.6701184 (0)\ttotal: 8.15ms\tremaining: 807ms\n",
      "30:\tlearn: 0.4960265\ttest: 0.4862404\tbest: 0.4862404 (30)\ttotal: 250ms\tremaining: 557ms\n",
      "60:\tlearn: 0.4740302\ttest: 0.4668158\tbest: 0.4668158 (60)\ttotal: 459ms\tremaining: 293ms\n",
      "90:\tlearn: 0.4621362\ttest: 0.4595536\tbest: 0.4595536 (90)\ttotal: 738ms\tremaining: 73ms\n",
      "99:\tlearn: 0.4589638\ttest: 0.4575958\tbest: 0.4575432 (97)\ttotal: 821ms\tremaining: 0us\n",
      "\n",
      "bestTest = 0.4575431593\n",
      "bestIteration = 97\n",
      "\n",
      "0:\tlearn: 0.6772033\ttest: 0.6768687\tbest: 0.6768687 (0)\ttotal: 14.3ms\tremaining: 2.84s\n",
      "30:\tlearn: 0.4964200\ttest: 0.4857649\tbest: 0.4857649 (30)\ttotal: 304ms\tremaining: 1.66s\n",
      "60:\tlearn: 0.4671185\ttest: 0.4598332\tbest: 0.4598332 (60)\ttotal: 605ms\tremaining: 1.38s\n",
      "90:\tlearn: 0.4579186\ttest: 0.4572004\tbest: 0.4572004 (90)\ttotal: 864ms\tremaining: 1.03s\n",
      "120:\tlearn: 0.4491415\ttest: 0.4535174\tbest: 0.4535174 (120)\ttotal: 1.11s\tremaining: 724ms\n",
      "150:\tlearn: 0.4401945\ttest: 0.4509016\tbest: 0.4503832 (148)\ttotal: 1.34s\tremaining: 437ms\n",
      "180:\tlearn: 0.4323083\ttest: 0.4468768\tbest: 0.4465087 (179)\ttotal: 1.6s\tremaining: 168ms\n",
      "199:\tlearn: 0.4282919\ttest: 0.4460930\tbest: 0.4453940 (192)\ttotal: 1.77s\tremaining: 0us\n",
      "\n",
      "bestTest = 0.4453939561\n",
      "bestIteration = 192\n",
      "\n",
      "0:\tlearn: 0.6719328\ttest: 0.6709018\tbest: 0.6709018 (0)\n",
      "30:\tlearn: 0.4737656\ttest: 0.4679275\tbest: 0.4679275 (30)\n",
      "60:\tlearn: 0.4494469\ttest: 0.4535705\tbest: 0.4535705 (60)\n",
      "90:\tlearn: 0.4364307\ttest: 0.4508688\tbest: 0.4504233 (87)\n",
      "120:\tlearn: 0.4257412\ttest: 0.4497446\tbest: 0.4494473 (118)\n",
      "Stopped by overfitting detector  (20 iterations wait)\n"
     ]
    }
   ],
   "source": [
    "model = CatBoostClassifier(iterations=500,\n",
    "                               learning_rate=None,\n",
    "                              cat_features=cat_features,\n",
    "                               depth=5,\n",
    "                               early_stopping_rounds = 20,\n",
    "                               auto_class_weights = 'Balanced',\n",
    "                               subsample= 0.5,\n",
    "                               verbose=30)\n",
    "search_results = model.randomized_search(catboost_params_grid,\n",
    "                  train_pool,\n",
    "                  y=None,\n",
    "                  cv=3,\n",
    "                  n_iter=10,\n",
    "                  partition_random_seed=0,\n",
    "                  calc_cv_statistics=True,\n",
    "                  search_by_train_test_split=True,\n",
    "                  refit=True,\n",
    "                  shuffle=True,\n",
    "                  stratified=None,\n",
    "                  train_size=0.8,\n",
    "                  verbose=False,\n",
    "                  log_cout=sys.stdout,\n",
    "                  log_cerr=sys.stderr)"
   ]
  },
  {
   "cell_type": "markdown",
   "metadata": {},
   "source": [
    "### optimized configuration for catboost"
   ]
  },
  {
   "cell_type": "code",
   "execution_count": 28,
   "metadata": {},
   "outputs": [
    {
     "data": {
      "text/plain": [
       "{'min_data_in_leaf': 1000, 'depth': 4, 'iterations': 200, 'subsample': 0.95}"
      ]
     },
     "execution_count": 28,
     "metadata": {},
     "output_type": "execute_result"
    }
   ],
   "source": [
    "search_results['params']"
   ]
  },
  {
   "cell_type": "markdown",
   "metadata": {},
   "source": [
    "### Train a final cat boost model with the optimized params"
   ]
  },
  {
   "cell_type": "code",
   "execution_count": 29,
   "metadata": {},
   "outputs": [
    {
     "data": {
      "application/vnd.jupyter.widget-view+json": {
       "model_id": "7ced0318d00840e6960450aa21ad33cc",
       "version_major": 2,
       "version_minor": 0
      },
      "text/plain": [
       "MetricVisualizer(layout=Layout(align_self='stretch', height='500px'))"
      ]
     },
     "metadata": {},
     "output_type": "display_data"
    },
    {
     "name": "stdout",
     "output_type": "stream",
     "text": [
      "Learning rate set to 0.086965\n",
      "0:\tlearn: 0.5970098\ttest: 0.5978828\tbest: 0.5978828 (0)\ttotal: 10.6ms\tremaining: 2.11s\n",
      "30:\tlearn: 0.1859729\ttest: 0.1936703\tbest: 0.1936703 (30)\ttotal: 248ms\tremaining: 1.35s\n",
      "60:\tlearn: 0.1762069\ttest: 0.1928143\tbest: 0.1917317 (56)\ttotal: 596ms\tremaining: 1.36s\n",
      "Stopped by overfitting detector  (20 iterations wait)\n",
      "\n",
      "bestTest = 0.1917317141\n",
      "bestIteration = 56\n",
      "\n",
      "Shrink model to first 57 iterations.\n"
     ]
    }
   ],
   "source": [
    "catboost_pipe = make_catboost_pipe_line(train_pool, es_pool, target_encoder = False, params = search_results['params'])\n"
   ]
  },
  {
   "cell_type": "code",
   "execution_count": 30,
   "metadata": {},
   "outputs": [
    {
     "name": "stdout",
     "output_type": "stream",
     "text": [
      "Best Threshold: 0.2181606359997792 , with accuracy =  0.938\n"
     ]
    },
    {
     "data": {
      "image/png": "[encoded data removed]",
      "text/plain": [
       "<Figure size 432x288 with 1 Axes>"
      ]
     },
     "metadata": {
      "needs_background": "light"
     },
     "output_type": "display_data"
    },
    {
     "data": {
      "image/png": "[encoded data removed]",
      "text/plain": [
       "<Figure size 432x288 with 1 Axes>"
      ]
     },
     "metadata": {
      "needs_background": "light"
     },
     "output_type": "display_data"
    },
    {
     "data": {
      "image/png": "[encoded data removed]",
      "text/plain": [
       "<Figure size 432x288 with 1 Axes>"
      ]
     },
     "metadata": {
      "needs_background": "light"
     },
     "output_type": "display_data"
    },
    {
     "name": "stdout",
     "output_type": "stream",
     "text": [
      "Accuracy: 0.938\n",
      "Recall: 0.0\n",
      "Precision: 0.0\n",
      "AUC: 0.7855319148936171\n"
     ]
    }
   ],
   "source": [
    "evaulate_pipeline(catboost_pipe, X_val, y_val)"
   ]
  },
  {
   "cell_type": "markdown",
   "metadata": {},
   "source": [
    "# KNN Classifier Model"
   ]
  },
  {
   "cell_type": "code",
   "execution_count": 31,
   "metadata": {},
   "outputs": [],
   "source": [
    "def make_knn_pipe_line(params = None) :\n",
    "    encoder = ce.TargetEncoder(cols=cat_features)\n",
    "    knn_model = KNeighborsClassifier(n_neighbors=300, weights='uniform')\n",
    "    if params:\n",
    "        knn_model.set_params(**params)\n",
    "    return (Pipeline([('target_enc',encoder),  ('scaler',  StandardScaler()), ('KNN', knn_model)]))   "
   ]
  },
  {
   "cell_type": "code",
   "execution_count": 32,
   "metadata": {},
   "outputs": [],
   "source": [
    "def find_best_params_knn(grid,X_train, y_train, X_val, y_val):\n",
    "    best_accuracy = 0\n",
    "    worst_accuracy = 1\n",
    "    for g in ParameterGrid(grid):\n",
    "        print(g)\n",
    "        model = make_knn_pipe_line(params = g)\n",
    "        model.fit(X_train, y_train)\n",
    "        y_hat = model.predict_proba(X_val)[:,1]\n",
    "        curr_accuracy, best_threshold = find_threshold_by_accuracy(y_val, y_hat, plot=False)\n",
    "\n",
    "        # save if best\n",
    "        if curr_accuracy > best_accuracy:\n",
    "            best_accuracy = curr_accuracy\n",
    "            best_grid = g\n",
    "            \n",
    "        if curr_accuracy < worst_accuracy:\n",
    "            worst_accuracy = curr_accuracy\n",
    "            worst_grid = g\n",
    "    print (\"Final Result\")\n",
    "    print (\"best accuracy\", best_accuracy, \", Grid:\", best_grid)\n",
    "    print (\"worst accuracy\", worst_accuracy, \", Grid:\", best_grid)\n",
    "    return best_grid"
   ]
  },
  {
   "cell_type": "code",
   "execution_count": null,
   "metadata": {},
   "outputs": [
    {
     "name": "stdout",
     "output_type": "stream",
     "text": [
      "{'leaf_size': 30, 'n_neighbors': 100, 'weights': 'uniform'}\n"
     ]
    }
   ],
   "source": [
    "%%time\n",
    "\n",
    "knn_params_grid ={'n_neighbors': [100, 500, 1000], \n",
    "                 'weights': ['uniform' , 'distance'],\n",
    "                  'leaf_size' : [30,100]\n",
    "                }\n",
    "best_knn_params = find_best_params_knn(knn_params_grid, X_train, y_train, X_val, y_val)"
   ]
  },
  {
   "cell_type": "code",
   "execution_count": null,
   "metadata": {},
   "outputs": [],
   "source": [
    "knn_pipeline = make_knn_pipe_line(params = best_knn_params)\n",
    "knn_pipeline.fit(X_train, y_train)"
   ]
  },
  {
   "cell_type": "code",
   "execution_count": null,
   "metadata": {},
   "outputs": [],
   "source": [
    "evaulate_pipeline(knn_pipeline, X_val, y_val)"
   ]
  },
  {
   "cell_type": "markdown",
   "metadata": {},
   "source": [
    "# Shap Values"
   ]
  },
  {
   "cell_type": "code",
   "execution_count": null,
   "metadata": {},
   "outputs": [],
   "source": [
    "model = catboost_pipe\n",
    "\n",
    "\n",
    "# explain the model's predictions using SHAP\n",
    "# (same syntax works for LightGBM, CatBoost, scikit-learn, transformers, Spark, etc.)\n",
    "explainer = shap.Explainer(model)\n",
    "shap_values = explainer(X_train)\n",
    "shap.initjs()\n"
   ]
  },
  {
   "cell_type": "markdown",
   "metadata": {},
   "source": [
    "Shap Values (Shapely Additive exPlanations is a model Agnostic method for explaining model predictions\n",
    "It is based on theory developed by Loid Shapley in the 1950's "
   ]
  },
  {
   "cell_type": "markdown",
   "metadata": {},
   "source": [
    "# Shap Summary Plot"
   ]
  },
  {
   "cell_type": "code",
   "execution_count": null,
   "metadata": {},
   "outputs": [],
   "source": [
    "\n",
    "shap.summary_plot(shap_values)"
   ]
  },
  {
   "cell_type": "code",
   "execution_count": null,
   "metadata": {},
   "outputs": [],
   "source": [
    "\n",
    "def explain_simple(idx, X_train):\n",
    "    data = X_train.iloc[[idx]]\n",
    "    shap_values = explainer.shap_values( data)\n",
    "    return (shap.force_plot(explainer.expected_value,shap_values , data, link='logit'))"
   ]
  },
  {
   "cell_type": "markdown",
   "metadata": {},
   "source": [
    "# 3 random prediction explanations"
   ]
  },
  {
   "cell_type": "code",
   "execution_count": null,
   "metadata": {},
   "outputs": [],
   "source": [
    "explain_simple(random.randint(1, X_train.shape[0]), X_train)"
   ]
  },
  {
   "cell_type": "code",
   "execution_count": null,
   "metadata": {},
   "outputs": [],
   "source": [
    "explain_simple(random.randint(1, X_train.shape[0]), X_train)"
   ]
  },
  {
   "cell_type": "code",
   "execution_count": null,
   "metadata": {},
   "outputs": [],
   "source": [
    "explain_simple(random.randint(1, X_train.shape[0]), X_train)"
   ]
  },
  {
   "cell_type": "code",
   "execution_count": null,
   "metadata": {},
   "outputs": [],
   "source": []
  }
 ],
 "metadata": {
  "kernelspec": {
   "display_name": "Python 3",
   "language": "python",
   "name": "python3"
  },
  "language_info": {
   "codemirror_mode": {
    "name": "ipython",
    "version": 3
   },
   "file_extension": ".py",
   "mimetype": "text/x-python",
   "name": "python",
   "nbconvert_exporter": "python",
   "pygments_lexer": "ipython3",
   "version": "3.7.4"
  }
 },
 "nbformat": 4,
 "nbformat_minor": 1
}
